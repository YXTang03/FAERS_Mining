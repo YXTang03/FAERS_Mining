{
 "cells": [
  {
   "cell_type": "code",
   "execution_count": null,
   "id": "8e3c9995",
   "metadata": {},
   "outputs": [
    {
     "data": {
      "application/vnd.microsoft.datawrangler.viewer.v0+json": {
       "columns": [
        {
         "name": "index",
         "rawType": "int64",
         "type": "integer"
        },
        {
         "name": "a",
         "rawType": "int64",
         "type": "integer"
        },
        {
         "name": "b",
         "rawType": "int64",
         "type": "integer"
        },
        {
         "name": "c",
         "rawType": "int64",
         "type": "integer"
        },
        {
         "name": "d",
         "rawType": "int64",
         "type": "integer"
        },
        {
         "name": "ror",
         "rawType": "float64",
         "type": "float"
        }
       ],
       "ref": "b1a2cc5e-4c76-46b9-b964-f6347d06c1fc",
       "rows": [
        [
         "0",
         "3",
         "21",
         "64388",
         "6916647",
         "15.345909619361194"
        ]
       ],
       "shape": {
        "columns": 5,
        "rows": 1
       }
      },
      "text/html": [
       "<div>\n",
       "<style scoped>\n",
       "    .dataframe tbody tr th:only-of-type {\n",
       "        vertical-align: middle;\n",
       "    }\n",
       "\n",
       "    .dataframe tbody tr th {\n",
       "        vertical-align: top;\n",
       "    }\n",
       "\n",
       "    .dataframe thead th {\n",
       "        text-align: right;\n",
       "    }\n",
       "</style>\n",
       "<table border=\"1\" class=\"dataframe\">\n",
       "  <thead>\n",
       "    <tr style=\"text-align: right;\">\n",
       "      <th></th>\n",
       "      <th>a</th>\n",
       "      <th>b</th>\n",
       "      <th>c</th>\n",
       "      <th>d</th>\n",
       "      <th>ror</th>\n",
       "    </tr>\n",
       "  </thead>\n",
       "  <tbody>\n",
       "    <tr>\n",
       "      <th>0</th>\n",
       "      <td>3</td>\n",
       "      <td>21</td>\n",
       "      <td>64388</td>\n",
       "      <td>6916647</td>\n",
       "      <td>15.34591</td>\n",
       "    </tr>\n",
       "  </tbody>\n",
       "</table>\n",
       "</div>"
      ],
      "text/plain": [
       "   a   b      c        d       ror\n",
       "0  3  21  64388  6916647  15.34591"
      ]
     },
     "execution_count": 6,
     "metadata": {},
     "output_type": "execute_result"
    }
   ],
   "source": [
    "from sshtunnel import SSHTunnelForwarder\n",
    "import psycopg2\n",
    "import pandas as pd\n",
    " \n",
    "server = SSHTunnelForwarder(\n",
    "    ssh_address_or_host=('10.12.0.8', 2043),\n",
    "    ssh_username='root', \n",
    "    ssh_password = 'ynby20250625', \n",
    " \n",
    "    \n",
    "    remote_bind_address=('localhost' , 5432)) \n",
    "server.start()\n",
    "conn = psycopg2.connect(database = 'FAERS20-24', \n",
    "                            user = 'postgres',     \n",
    "                            password = 'woshipostgres', \n",
    "                            host = '127.0.0.1',   \n",
    "                            port = server.local_bind_port)"
   ]
  },
  {
   "cell_type": "code",
   "execution_count": null,
   "id": "3fdb78be",
   "metadata": {},
   "outputs": [],
   "source": [
    "def get_drugids():\n",
    "    sql = (\"SELECT DISTINCT drugbank_id FROM drug21_24_map ORDER BY drugbank_id ASC\")\n",
    "    drugids = pd.read_sql(sql, con = conn)\n",
    "    for i in drugids['drugbank_id']:\n",
    "        return i"
   ]
  },
  {
   "cell_type": "code",
   "execution_count": 35,
   "id": "06612009",
   "metadata": {},
   "outputs": [],
   "source": [
    "def get_drug_reaction(drugid):\n",
    "    sql = (f\"SELECT primaryid, reactid FROM cdir_fo WHERE drugbank_id = '{drugid}';\")\n",
    "    drug_reaction = pd.read_sql(sql, con = conn)\n",
    "    #print(drug_reaction)\n",
    "    primaryid, reactid = drug_reaction.iloc[:, 0], drug_reaction.iloc[:, 1]\n",
    "    return primaryid, reactid\n",
    "pid, rid = get_drug_reaction('DB14500')"
   ]
  },
  {
   "cell_type": "code",
   "execution_count": null,
   "id": "106e5042",
   "metadata": {},
   "outputs": [
    {
     "data": {
      "text/plain": [
       "18004"
      ]
     },
     "execution_count": 44,
     "metadata": {},
     "output_type": "execute_result"
    }
   ],
   "source": [
    "def count_drug(drugid):\n",
    "    '''\n",
    "    Figure out the value 'a+c'(the sum of recordings of all reactions \n",
    "    triggered by the given drug) in the Disproportional Method\n",
    "    '''\n",
    "    sql = (f\"SELECT count FROM drugcount WHERE drugbank_id = '{drugid}';\")\n",
    "    drugcount = pd.read_sql(sql, con=conn)\n",
    "    return drugcount['count'].values[0]\n",
    "\n",
    "count_drug('DB14500')"
   ]
  },
  {
   "cell_type": "code",
   "execution_count": null,
   "id": "88b66941",
   "metadata": {},
   "outputs": [
    {
     "data": {
      "text/plain": [
       "123912"
      ]
     },
     "execution_count": 47,
     "metadata": {},
     "output_type": "execute_result"
    }
   ],
   "source": [
    "def count_react(reactid):\n",
    "    '''\n",
    "    Figure out the value 'a+b'(the sum of recordings of the given reaction \n",
    "    ) in the Disproportional Method\n",
    "    '''\n",
    "    sql = (f\"SELECT count FROM reactcount WHERE reactid = '{reactid}';\")\n",
    "    reactcount = pd.read_sql(sql, con=conn)\n",
    "    return reactcount['count'].values[0]\n",
    "\n",
    "count_react('254761')"
   ]
  },
  {
   "cell_type": "code",
   "execution_count": null,
   "id": "d2ca5ed2",
   "metadata": {},
   "outputs": [
    {
     "data": {
      "text/plain": [
       "777"
      ]
     },
     "execution_count": 49,
     "metadata": {},
     "output_type": "execute_result"
    }
   ],
   "source": [
    "def count_a(drugid, reactid):\n",
    "    '''\n",
    "    Figure out the value 'a' (the count of recordings associating \n",
    "    with given drug and focusing adverse reaction) \n",
    "    in the Disproportional Method\n",
    "    '''\n",
    "    sql = (f\"SELECT count(*) FROM cdir_fo WHERE drugbank_id = '{drugid}' AND reactid = '{reactid}';\")\n",
    "    reactcount = pd.read_sql(sql, con=conn)\n",
    "    return reactcount['count'].values[0]\n",
    "\n",
    "count_a('DB14500', '254761')"
   ]
  },
  {
   "cell_type": "code",
   "execution_count": null,
   "id": "0a03bdf3",
   "metadata": {},
   "outputs": [],
   "source": [
    "\n",
    "sql = (\"WITH target_reports AS (SELECT DISTINCT primaryid, caseid FROM drug21_24_map WHERE drugbank_id = 'DB00054'),reaction_reports AS ( SELECT DISTINCT primaryid, caseid FROM reaction WHERE id = '317002'),all_reports AS ( SELECT DISTINCT primaryid, caseid FROM drug21_24_map UNION SELECT DISTINCT primaryid, caseid FROM reaction),combined AS ( SELECT ar.primaryid, ar.caseid, (tr.primaryid IS NOT NULL) AS has_drug, (rr.primaryid IS NOT NULL) AS has_reaction FROM all_reports ar LEFT JOIN target_reports tr ON ar.primaryid = tr.primaryid AND ar.caseid = tr.caseid LEFT JOIN reaction_reports rr ON ar.primaryid = rr.primaryid AND ar.caseid = rr.caseid),counts AS ( SELECT COUNT(*) FILTER (WHERE has_drug AND has_reaction) AS a, COUNT(*) FILTER (WHERE has_drug AND NOT has_reaction) AS b, COUNT(*) FILTER (WHERE NOT has_drug AND has_reaction) AS c, COUNT(*) FILTER (WHERE NOT has_drug AND NOT has_reaction) AS d FROM combined) SELECT a, b, c, d, CASE  WHEN b = 0 OR c = 0 THEN NULL ELSE (a * d) * 1.0 / (b * c) END AS ror FROM counts\")\n",
    "e_data_intfc = pd.read_sql(sql,con = conn)\n",
    "\n",
    "e_data_intfc.head()\n"
   ]
  },
  {
   "cell_type": "code",
   "execution_count": 3,
   "id": "4d18863a",
   "metadata": {},
   "outputs": [],
   "source": [
    "server.close()"
   ]
  },
  {
   "cell_type": "code",
   "execution_count": 15,
   "id": "32bf065b",
   "metadata": {},
   "outputs": [],
   "source": [
    "sql = (\"SELECT DISTINCT drugbank_id FROM drug21_24_map ORDER BY drugbank_id ASC\")\n",
    "drugids = pd.read_sql(sql, con = conn)"
   ]
  },
  {
   "cell_type": "code",
   "execution_count": null,
   "id": "80e0e252",
   "metadata": {},
   "outputs": [],
   "source": []
  }
 ],
 "metadata": {
  "kernelspec": {
   "display_name": "pj1",
   "language": "python",
   "name": "pj1"
  },
  "language_info": {
   "codemirror_mode": {
    "name": "ipython",
    "version": 3
   },
   "file_extension": ".py",
   "mimetype": "text/x-python",
   "name": "python",
   "nbconvert_exporter": "python",
   "pygments_lexer": "ipython3",
   "version": "3.12.8"
  }
 },
 "nbformat": 4,
 "nbformat_minor": 5
}
